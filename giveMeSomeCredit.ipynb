{
  "nbformat": 4,
  "nbformat_minor": 0,
  "metadata": {
    "colab": {
      "name": "give_me_some_credit.ipynb",
      "provenance": [],
      "collapsed_sections": [
        "5-it-ozEUN0A",
        "THMGqy24U0oL",
        "VL14YjWwZc5k",
        "-j8zyofSbpM2",
        "zYZ1l9u4B_Gw",
        "1vmVyo4U_BVk"
      ],
      "include_colab_link": true
    },
    "kernelspec": {
      "display_name": "Python 3 (ipykernel)",
      "language": "python",
      "name": "python3"
    },
    "language_info": {
      "codemirror_mode": {
        "name": "ipython",
        "version": 3
      },
      "file_extension": ".py",
      "mimetype": "text/x-python",
      "name": "python",
      "nbconvert_exporter": "python",
      "pygments_lexer": "ipython3",
      "version": "3.9.6"
    }
  },
  "cells": [
    {
      "cell_type": "markdown",
      "metadata": {
        "id": "view-in-github",
        "colab_type": "text"
      },
      "source": [
        "<a href=\"https://colab.research.google.com/github/niitish/mlp/blob/main/giveMeSomeCredit.ipynb\" target=\"_parent\"><img src=\"https://colab.research.google.com/assets/colab-badge.svg\" alt=\"Open In Colab\"/></a>"
      ]
    },
    {
      "cell_type": "markdown",
      "metadata": {
        "id": "rTTDx8HHT1Cn"
      },
      "source": [
        "# Give Me Some Credit\n",
        "Solution to Kaggle Competitions problem [Give Me Some Credit](https://www.kaggle.com/c/GiveMeSomeCredit/)."
      ]
    },
    {
      "cell_type": "markdown",
      "metadata": {
        "id": "HWRHHkIJ_BVT"
      },
      "source": [
        "### Problem Description:\n",
        "The problem is to predict whether a person will be able to repay the loan considering the parameters given in the dataset. We have to predict the probability of repayment based on which bank will decide whether to grant the credit or not."
      ]
    },
    {
      "cell_type": "markdown",
      "metadata": {
        "id": "5-it-ozEUN0A"
      },
      "source": [
        "## Installing libraries"
      ]
    },
    {
      "cell_type": "markdown",
      "metadata": {
        "id": "6bUzOeBq_BVU"
      },
      "source": [
        "We begin by installing the required python libraries for linear algebra, loading datasets, graph plotting and model training. "
      ]
    },
    {
      "cell_type": "code",
      "metadata": {
        "id": "WUrAJlioVSH-"
      },
      "source": [
        "pip install numpy pandas scikit-learn matplotlib seaborn --quiet"
      ],
      "execution_count": 1,
      "outputs": []
    },
    {
      "cell_type": "code",
      "metadata": {
        "id": "uIxEWt2BUNRq",
        "colab": {
          "base_uri": "https://localhost:8080/"
        },
        "outputId": "8da44c8d-f48d-439e-d752-612963151391"
      },
      "source": [
        "pip install opendatasets xgboost --upgrade --quiet"
      ],
      "execution_count": 2,
      "outputs": [
        {
          "output_type": "stream",
          "name": "stdout",
          "text": [
            "\u001b[K     |████████████████████████████████| 173.5 MB 7.6 kB/s \n",
            "\u001b[?25h"
          ]
        }
      ]
    },
    {
      "cell_type": "markdown",
      "metadata": {
        "id": "THMGqy24U0oL"
      },
      "source": [
        "## Downloading datasets"
      ]
    },
    {
      "cell_type": "code",
      "metadata": {
        "id": "C0f9HkHCTqoq"
      },
      "source": [
        "import opendatasets as od"
      ],
      "execution_count": null,
      "outputs": []
    },
    {
      "cell_type": "code",
      "metadata": {
        "id": "IlN_2ZxXU6C2"
      },
      "source": [
        "# competition url for downloading the datasets\n",
        "dataset_url = 'https://www.kaggle.com/c/GiveMeSomeCredit/'"
      ],
      "execution_count": null,
      "outputs": []
    },
    {
      "cell_type": "code",
      "metadata": {
        "id": "N8khGOLFV2Cb"
      },
      "source": [
        "# this block will require your Kaggle username and API key\n",
        "od.download(dataset_url, force=True)"
      ],
      "execution_count": null,
      "outputs": []
    },
    {
      "cell_type": "code",
      "metadata": {
        "colab": {
          "base_uri": "https://localhost:8080/"
        },
        "id": "cOId2xgqWdwv",
        "outputId": "e25766a2-f515-46f6-fb4d-b31048cea47c"
      },
      "source": [
        "# the downloaded datasets are stored in GiveMeSomeCredit folder,\n",
        "# lets branch into it\n",
        "%cd GiveMeSomeCredit"
      ],
      "execution_count": null,
      "outputs": [
        {
          "name": "stdout",
          "output_type": "stream",
          "text": [
            "/content/GiveMeSomeCredit\n"
          ]
        }
      ]
    },
    {
      "cell_type": "markdown",
      "metadata": {
        "id": "2dQgx2MP_BVa"
      },
      "source": [
        "## Dataset description"
      ]
    },
    {
      "cell_type": "markdown",
      "metadata": {
        "id": "mpjYvTda_BVa"
      },
      "source": [
        "* _**SeriousDlqin2yrs**_: Person experienced 90 days past due delinquency or worse. This is the label which we need to predict."
      ]
    },
    {
      "cell_type": "markdown",
      "metadata": {
        "id": "4uuVAvkA_BVd"
      },
      "source": [
        "* _**RevolvingUtilizationOfUnsecuredLines**_:\n",
        "Total balance on credit cards and personal lines of credit except real estate and no installment debt like car loans divided by the sum of credit limits."
      ]
    },
    {
      "cell_type": "markdown",
      "metadata": {
        "id": "bQYevE9o_BVd"
      },
      "source": [
        "* _**age**_:\n",
        "Age of borrower in years."
      ]
    },
    {
      "cell_type": "markdown",
      "metadata": {
        "id": "nSpz-7mJ_BVd"
      },
      "source": [
        "* _**NumberOfTime30-59DaysPastDueNotWorse**_:\n",
        "Number of times borrower has been 30-59 days past due but no worse in the last 2 years."
      ]
    },
    {
      "cell_type": "markdown",
      "metadata": {
        "id": "ylKUXBwv_BVd"
      },
      "source": [
        "* _**DebtRatio**_:\n",
        "Monthly debt payments, alimony, living costs divided by monthy gross income."
      ]
    },
    {
      "cell_type": "markdown",
      "metadata": {
        "id": "NdyXn6aP_BVe"
      },
      "source": [
        "* _**MonthlyIncome**_:\n",
        "Monthly income."
      ]
    },
    {
      "cell_type": "markdown",
      "metadata": {
        "id": "yix_6-Ef_BVe"
      },
      "source": [
        "* _**NumberOfOpenCreditLinesAndLoans**_:\n",
        "Number of Open loans (installment like car loan or mortgage) and Lines of credit (e.g. credit cards)."
      ]
    },
    {
      "cell_type": "markdown",
      "metadata": {
        "id": "YwNwfUd9_BVe"
      },
      "source": [
        "* _**NumberOfTimes90DaysLate**_:\n",
        "Number of times borrower has been 90 days or more past due."
      ]
    },
    {
      "cell_type": "markdown",
      "metadata": {
        "id": "A6mPj5oD_BVe"
      },
      "source": [
        "* _**NumberRealEstateLoansOrLines**_:\n",
        "Number of mortgage and real estate loans including home equity lines of credit."
      ]
    },
    {
      "cell_type": "markdown",
      "metadata": {
        "id": "sSOJepKW_BVf"
      },
      "source": [
        "* _**NumberOfTime60-89DaysPastDueNotWorse**_:\n",
        "Number of times borrower has been 60-89 days past due but no worse in the last 2 years."
      ]
    },
    {
      "cell_type": "markdown",
      "metadata": {
        "id": "bw2aff5s_BVf"
      },
      "source": [
        "* _**NumberOfDependents**_:\n",
        "Number of dependents in family excluding themselves (spouse, children etc.)"
      ]
    },
    {
      "cell_type": "markdown",
      "metadata": {
        "id": "VL14YjWwZc5k"
      },
      "source": [
        "## Loading dataset"
      ]
    },
    {
      "cell_type": "code",
      "metadata": {
        "id": "mIai0MlNWgmq"
      },
      "source": [
        "import pandas as pd\n",
        "import numpy as np"
      ],
      "execution_count": 48,
      "outputs": []
    },
    {
      "cell_type": "code",
      "metadata": {
        "id": "nkVuUz_eZ0rI",
        "scrolled": true
      },
      "source": [
        "# load test and train datasets\n",
        "train_df = pd.read_csv('cs-training.csv', index_col=0)\n",
        "test_df = pd.read_csv('cs-test.csv', index_col=0)"
      ],
      "execution_count": 49,
      "outputs": []
    },
    {
      "cell_type": "code",
      "source": [
        "train_df.rename(columns={\"SeriousDlqin2yrs\":\"seriousd2y\",\n",
        "                         \"RevolvingUtilizationOfUnsecuredLines\":\"ruoul\",\n",
        "                         \"NumberOfTime30-59DaysPastDueNotWorse\":\"t30-59late\",\n",
        "                         \"DebtRatio\":\"debtratio\",\n",
        "                         \"MonthlyIncome\":\"incomepm\",\n",
        "                         \"NumberOfOpenCreditLinesAndLoans\":\"nocll\",\n",
        "                         \"NumberOfTimes90DaysLate\":\"t90late\",\n",
        "                         \"NumberRealEstateLoansOrLines\":\"nrell\",\n",
        "                         \"NumberOfTime60-89DaysPastDueNotWorse\":\"t60-89late\",\n",
        "                         \"NumberOfDependents\":\"dependents\"}, inplace=True)"
      ],
      "metadata": {
        "id": "kAEImApVJYMy"
      },
      "execution_count": 50,
      "outputs": []
    },
    {
      "cell_type": "code",
      "source": [
        "test_df.rename(columns={\"SeriousDlqin2yrs\":\"seriousd2y\",\n",
        "                         \"RevolvingUtilizationOfUnsecuredLines\":\"ruoul\",\n",
        "                         \"NumberOfTime30-59DaysPastDueNotWorse\":\"t30-59late\",\n",
        "                         \"DebtRatio\":\"debtratio\",\n",
        "                         \"MonthlyIncome\":\"incomepm\",\n",
        "                         \"NumberOfOpenCreditLinesAndLoans\":\"nocll\",\n",
        "                         \"NumberOfTimes90DaysLate\":\"t90late\",\n",
        "                         \"NumberRealEstateLoansOrLines\":\"nrell\",\n",
        "                         \"NumberOfTime60-89DaysPastDueNotWorse\":\"t60-89late\",\n",
        "                         \"NumberOfDependents\":\"dependents\"}, inplace=True)"
      ],
      "metadata": {
        "id": "JEdAfbAWLE5M"
      },
      "execution_count": 51,
      "outputs": []
    },
    {
      "cell_type": "code",
      "metadata": {
        "colab": {
          "base_uri": "https://localhost:8080/",
          "height": 0
        },
        "id": "638ukVrm_BVZ",
        "outputId": "0c975bfc-03c2-4d83-9b59-c9c3e9f61e25"
      },
      "source": [
        "train_df.head()"
      ],
      "execution_count": 52,
      "outputs": [
        {
          "output_type": "execute_result",
          "data": {
            "text/html": [
              "\n",
              "  <div id=\"df-9fc49787-9371-432d-9244-69a2eba50679\">\n",
              "    <div class=\"colab-df-container\">\n",
              "      <div>\n",
              "<style scoped>\n",
              "    .dataframe tbody tr th:only-of-type {\n",
              "        vertical-align: middle;\n",
              "    }\n",
              "\n",
              "    .dataframe tbody tr th {\n",
              "        vertical-align: top;\n",
              "    }\n",
              "\n",
              "    .dataframe thead th {\n",
              "        text-align: right;\n",
              "    }\n",
              "</style>\n",
              "<table border=\"1\" class=\"dataframe\">\n",
              "  <thead>\n",
              "    <tr style=\"text-align: right;\">\n",
              "      <th></th>\n",
              "      <th>seriousd2y</th>\n",
              "      <th>ruoul</th>\n",
              "      <th>age</th>\n",
              "      <th>t30-59late</th>\n",
              "      <th>debtratio</th>\n",
              "      <th>incomepm</th>\n",
              "      <th>nocll</th>\n",
              "      <th>t90late</th>\n",
              "      <th>nrell</th>\n",
              "      <th>t60-89late</th>\n",
              "      <th>dependents</th>\n",
              "    </tr>\n",
              "  </thead>\n",
              "  <tbody>\n",
              "    <tr>\n",
              "      <th>1</th>\n",
              "      <td>1</td>\n",
              "      <td>0.766127</td>\n",
              "      <td>45</td>\n",
              "      <td>2</td>\n",
              "      <td>0.802982</td>\n",
              "      <td>9120.0</td>\n",
              "      <td>13</td>\n",
              "      <td>0</td>\n",
              "      <td>6</td>\n",
              "      <td>0</td>\n",
              "      <td>2.0</td>\n",
              "    </tr>\n",
              "    <tr>\n",
              "      <th>2</th>\n",
              "      <td>0</td>\n",
              "      <td>0.957151</td>\n",
              "      <td>40</td>\n",
              "      <td>0</td>\n",
              "      <td>0.121876</td>\n",
              "      <td>2600.0</td>\n",
              "      <td>4</td>\n",
              "      <td>0</td>\n",
              "      <td>0</td>\n",
              "      <td>0</td>\n",
              "      <td>1.0</td>\n",
              "    </tr>\n",
              "    <tr>\n",
              "      <th>3</th>\n",
              "      <td>0</td>\n",
              "      <td>0.658180</td>\n",
              "      <td>38</td>\n",
              "      <td>1</td>\n",
              "      <td>0.085113</td>\n",
              "      <td>3042.0</td>\n",
              "      <td>2</td>\n",
              "      <td>1</td>\n",
              "      <td>0</td>\n",
              "      <td>0</td>\n",
              "      <td>0.0</td>\n",
              "    </tr>\n",
              "    <tr>\n",
              "      <th>4</th>\n",
              "      <td>0</td>\n",
              "      <td>0.233810</td>\n",
              "      <td>30</td>\n",
              "      <td>0</td>\n",
              "      <td>0.036050</td>\n",
              "      <td>3300.0</td>\n",
              "      <td>5</td>\n",
              "      <td>0</td>\n",
              "      <td>0</td>\n",
              "      <td>0</td>\n",
              "      <td>0.0</td>\n",
              "    </tr>\n",
              "    <tr>\n",
              "      <th>5</th>\n",
              "      <td>0</td>\n",
              "      <td>0.907239</td>\n",
              "      <td>49</td>\n",
              "      <td>1</td>\n",
              "      <td>0.024926</td>\n",
              "      <td>63588.0</td>\n",
              "      <td>7</td>\n",
              "      <td>0</td>\n",
              "      <td>1</td>\n",
              "      <td>0</td>\n",
              "      <td>0.0</td>\n",
              "    </tr>\n",
              "  </tbody>\n",
              "</table>\n",
              "</div>\n",
              "      <button class=\"colab-df-convert\" onclick=\"convertToInteractive('df-9fc49787-9371-432d-9244-69a2eba50679')\"\n",
              "              title=\"Convert this dataframe to an interactive table.\"\n",
              "              style=\"display:none;\">\n",
              "        \n",
              "  <svg xmlns=\"http://www.w3.org/2000/svg\" height=\"24px\"viewBox=\"0 0 24 24\"\n",
              "       width=\"24px\">\n",
              "    <path d=\"M0 0h24v24H0V0z\" fill=\"none\"/>\n",
              "    <path d=\"M18.56 5.44l.94 2.06.94-2.06 2.06-.94-2.06-.94-.94-2.06-.94 2.06-2.06.94zm-11 1L8.5 8.5l.94-2.06 2.06-.94-2.06-.94L8.5 2.5l-.94 2.06-2.06.94zm10 10l.94 2.06.94-2.06 2.06-.94-2.06-.94-.94-2.06-.94 2.06-2.06.94z\"/><path d=\"M17.41 7.96l-1.37-1.37c-.4-.4-.92-.59-1.43-.59-.52 0-1.04.2-1.43.59L10.3 9.45l-7.72 7.72c-.78.78-.78 2.05 0 2.83L4 21.41c.39.39.9.59 1.41.59.51 0 1.02-.2 1.41-.59l7.78-7.78 2.81-2.81c.8-.78.8-2.07 0-2.86zM5.41 20L4 18.59l7.72-7.72 1.47 1.35L5.41 20z\"/>\n",
              "  </svg>\n",
              "      </button>\n",
              "      \n",
              "  <style>\n",
              "    .colab-df-container {\n",
              "      display:flex;\n",
              "      flex-wrap:wrap;\n",
              "      gap: 12px;\n",
              "    }\n",
              "\n",
              "    .colab-df-convert {\n",
              "      background-color: #E8F0FE;\n",
              "      border: none;\n",
              "      border-radius: 50%;\n",
              "      cursor: pointer;\n",
              "      display: none;\n",
              "      fill: #1967D2;\n",
              "      height: 32px;\n",
              "      padding: 0 0 0 0;\n",
              "      width: 32px;\n",
              "    }\n",
              "\n",
              "    .colab-df-convert:hover {\n",
              "      background-color: #E2EBFA;\n",
              "      box-shadow: 0px 1px 2px rgba(60, 64, 67, 0.3), 0px 1px 3px 1px rgba(60, 64, 67, 0.15);\n",
              "      fill: #174EA6;\n",
              "    }\n",
              "\n",
              "    [theme=dark] .colab-df-convert {\n",
              "      background-color: #3B4455;\n",
              "      fill: #D2E3FC;\n",
              "    }\n",
              "\n",
              "    [theme=dark] .colab-df-convert:hover {\n",
              "      background-color: #434B5C;\n",
              "      box-shadow: 0px 1px 3px 1px rgba(0, 0, 0, 0.15);\n",
              "      filter: drop-shadow(0px 1px 2px rgba(0, 0, 0, 0.3));\n",
              "      fill: #FFFFFF;\n",
              "    }\n",
              "  </style>\n",
              "\n",
              "      <script>\n",
              "        const buttonEl =\n",
              "          document.querySelector('#df-9fc49787-9371-432d-9244-69a2eba50679 button.colab-df-convert');\n",
              "        buttonEl.style.display =\n",
              "          google.colab.kernel.accessAllowed ? 'block' : 'none';\n",
              "\n",
              "        async function convertToInteractive(key) {\n",
              "          const element = document.querySelector('#df-9fc49787-9371-432d-9244-69a2eba50679');\n",
              "          const dataTable =\n",
              "            await google.colab.kernel.invokeFunction('convertToInteractive',\n",
              "                                                     [key], {});\n",
              "          if (!dataTable) return;\n",
              "\n",
              "          const docLinkHtml = 'Like what you see? Visit the ' +\n",
              "            '<a target=\"_blank\" href=https://colab.research.google.com/notebooks/data_table.ipynb>data table notebook</a>'\n",
              "            + ' to learn more about interactive tables.';\n",
              "          element.innerHTML = '';\n",
              "          dataTable['output_type'] = 'display_data';\n",
              "          await google.colab.output.renderOutput(dataTable, element);\n",
              "          const docLink = document.createElement('div');\n",
              "          docLink.innerHTML = docLinkHtml;\n",
              "          element.appendChild(docLink);\n",
              "        }\n",
              "      </script>\n",
              "    </div>\n",
              "  </div>\n",
              "  "
            ],
            "text/plain": [
              "   seriousd2y     ruoul  age  ...  nrell  t60-89late  dependents\n",
              "1           1  0.766127   45  ...      6           0         2.0\n",
              "2           0  0.957151   40  ...      0           0         1.0\n",
              "3           0  0.658180   38  ...      0           0         0.0\n",
              "4           0  0.233810   30  ...      0           0         0.0\n",
              "5           0  0.907239   49  ...      1           0         0.0\n",
              "\n",
              "[5 rows x 11 columns]"
            ]
          },
          "metadata": {},
          "execution_count": 52
        }
      ]
    },
    {
      "cell_type": "code",
      "metadata": {
        "id": "-H8CHfnrkK7U"
      },
      "source": [
        "input_cols = train_df.columns.drop('seriousd2y')\n",
        "target_cols = ['seriousd2y']"
      ],
      "execution_count": 53,
      "outputs": []
    },
    {
      "cell_type": "markdown",
      "metadata": {
        "id": "vOrEUOY-_BVf"
      },
      "source": [
        "## Imputing missing values"
      ]
    },
    {
      "cell_type": "code",
      "metadata": {
        "colab": {
          "base_uri": "https://localhost:8080/"
        },
        "id": "b3txGgOEkK7U",
        "outputId": "17a066dc-f0e3-4437-8b7e-a77681c239fd"
      },
      "source": [
        "train_df.info()"
      ],
      "execution_count": 54,
      "outputs": [
        {
          "output_type": "stream",
          "name": "stdout",
          "text": [
            "<class 'pandas.core.frame.DataFrame'>\n",
            "Int64Index: 150000 entries, 1 to 150000\n",
            "Data columns (total 11 columns):\n",
            " #   Column      Non-Null Count   Dtype  \n",
            "---  ------      --------------   -----  \n",
            " 0   seriousd2y  150000 non-null  int64  \n",
            " 1   ruoul       150000 non-null  float64\n",
            " 2   age         150000 non-null  int64  \n",
            " 3   t30-59late  150000 non-null  int64  \n",
            " 4   debtratio   150000 non-null  float64\n",
            " 5   incomepm    120269 non-null  float64\n",
            " 6   nocll       150000 non-null  int64  \n",
            " 7   t90late     150000 non-null  int64  \n",
            " 8   nrell       150000 non-null  int64  \n",
            " 9   t60-89late  150000 non-null  int64  \n",
            " 10  dependents  146076 non-null  float64\n",
            "dtypes: float64(4), int64(7)\n",
            "memory usage: 13.7 MB\n"
          ]
        }
      ]
    },
    {
      "cell_type": "code",
      "metadata": {
        "colab": {
          "base_uri": "https://localhost:8080/"
        },
        "id": "Eo6p6pxU8Sjg",
        "outputId": "0dd0adc8-ddf4-47a4-eb8c-2b96c9defffb"
      },
      "source": [
        "train_df.isnull().sum()"
      ],
      "execution_count": 55,
      "outputs": [
        {
          "output_type": "execute_result",
          "data": {
            "text/plain": [
              "seriousd2y        0\n",
              "ruoul             0\n",
              "age               0\n",
              "t30-59late        0\n",
              "debtratio         0\n",
              "incomepm      29731\n",
              "nocll             0\n",
              "t90late           0\n",
              "nrell             0\n",
              "t60-89late        0\n",
              "dependents     3924\n",
              "dtype: int64"
            ]
          },
          "metadata": {},
          "execution_count": 55
        }
      ]
    },
    {
      "cell_type": "markdown",
      "metadata": {
        "id": "pR6RaU8K_BVg"
      },
      "source": [
        "As per above info, there are no categorical columns, so we don't need to worry about One Hot Encoding.\n",
        "However, the column 'MonthlyIncome' and 'NumberOfDependents' have missing values, we need to handle those by imputing them."
      ]
    },
    {
      "cell_type": "code",
      "metadata": {
        "id": "t5_B20aHS0vg"
      },
      "source": [
        "from sklearn.impute import SimpleImputer\n",
        "imputer = SimpleImputer(strategy='mean')\n",
        "train_df[input_cols] = imputer.fit_transform(train_df[input_cols])\n",
        "test_df[input_cols] = imputer.transform(test_df[input_cols])"
      ],
      "execution_count": 56,
      "outputs": []
    },
    {
      "cell_type": "code",
      "metadata": {
        "colab": {
          "base_uri": "https://localhost:8080/"
        },
        "id": "6KzEv1b2ThB4",
        "outputId": "779ab74d-0037-4ed2-cbcd-5c7505fe6f28"
      },
      "source": [
        "train_df.isnull().sum()"
      ],
      "execution_count": 57,
      "outputs": [
        {
          "output_type": "execute_result",
          "data": {
            "text/plain": [
              "seriousd2y    0\n",
              "ruoul         0\n",
              "age           0\n",
              "t30-59late    0\n",
              "debtratio     0\n",
              "incomepm      0\n",
              "nocll         0\n",
              "t90late       0\n",
              "nrell         0\n",
              "t60-89late    0\n",
              "dependents    0\n",
              "dtype: int64"
            ]
          },
          "metadata": {},
          "execution_count": 57
        }
      ]
    },
    {
      "cell_type": "markdown",
      "metadata": {
        "id": "-j8zyofSbpM2"
      },
      "source": [
        "## Feature scaling"
      ]
    },
    {
      "cell_type": "code",
      "metadata": {
        "colab": {
          "base_uri": "https://localhost:8080/",
          "height": 0
        },
        "id": "321DQMy8_BVh",
        "scrolled": true,
        "outputId": "c28d654d-da77-49bf-ab5d-ad4cd052545c"
      },
      "source": [
        "train_df.describe()"
      ],
      "execution_count": 58,
      "outputs": [
        {
          "output_type": "execute_result",
          "data": {
            "text/html": [
              "\n",
              "  <div id=\"df-ce59a785-be92-4bb5-9a3d-05f9b28fc15b\">\n",
              "    <div class=\"colab-df-container\">\n",
              "      <div>\n",
              "<style scoped>\n",
              "    .dataframe tbody tr th:only-of-type {\n",
              "        vertical-align: middle;\n",
              "    }\n",
              "\n",
              "    .dataframe tbody tr th {\n",
              "        vertical-align: top;\n",
              "    }\n",
              "\n",
              "    .dataframe thead th {\n",
              "        text-align: right;\n",
              "    }\n",
              "</style>\n",
              "<table border=\"1\" class=\"dataframe\">\n",
              "  <thead>\n",
              "    <tr style=\"text-align: right;\">\n",
              "      <th></th>\n",
              "      <th>seriousd2y</th>\n",
              "      <th>ruoul</th>\n",
              "      <th>age</th>\n",
              "      <th>t30-59late</th>\n",
              "      <th>debtratio</th>\n",
              "      <th>incomepm</th>\n",
              "      <th>nocll</th>\n",
              "      <th>t90late</th>\n",
              "      <th>nrell</th>\n",
              "      <th>t60-89late</th>\n",
              "      <th>dependents</th>\n",
              "    </tr>\n",
              "  </thead>\n",
              "  <tbody>\n",
              "    <tr>\n",
              "      <th>count</th>\n",
              "      <td>150000.000000</td>\n",
              "      <td>150000.000000</td>\n",
              "      <td>150000.000000</td>\n",
              "      <td>150000.000000</td>\n",
              "      <td>150000.000000</td>\n",
              "      <td>1.500000e+05</td>\n",
              "      <td>150000.000000</td>\n",
              "      <td>150000.000000</td>\n",
              "      <td>150000.000000</td>\n",
              "      <td>150000.000000</td>\n",
              "      <td>150000.000000</td>\n",
              "    </tr>\n",
              "    <tr>\n",
              "      <th>mean</th>\n",
              "      <td>0.066840</td>\n",
              "      <td>6.048438</td>\n",
              "      <td>52.295207</td>\n",
              "      <td>0.421033</td>\n",
              "      <td>353.005076</td>\n",
              "      <td>6.670221e+03</td>\n",
              "      <td>8.452760</td>\n",
              "      <td>0.265973</td>\n",
              "      <td>1.018240</td>\n",
              "      <td>0.240387</td>\n",
              "      <td>0.757222</td>\n",
              "    </tr>\n",
              "    <tr>\n",
              "      <th>std</th>\n",
              "      <td>0.249746</td>\n",
              "      <td>249.755371</td>\n",
              "      <td>14.771866</td>\n",
              "      <td>4.192781</td>\n",
              "      <td>2037.818523</td>\n",
              "      <td>1.288045e+04</td>\n",
              "      <td>5.145951</td>\n",
              "      <td>4.169304</td>\n",
              "      <td>1.129771</td>\n",
              "      <td>4.155179</td>\n",
              "      <td>1.100404</td>\n",
              "    </tr>\n",
              "    <tr>\n",
              "      <th>min</th>\n",
              "      <td>0.000000</td>\n",
              "      <td>0.000000</td>\n",
              "      <td>0.000000</td>\n",
              "      <td>0.000000</td>\n",
              "      <td>0.000000</td>\n",
              "      <td>0.000000e+00</td>\n",
              "      <td>0.000000</td>\n",
              "      <td>0.000000</td>\n",
              "      <td>0.000000</td>\n",
              "      <td>0.000000</td>\n",
              "      <td>0.000000</td>\n",
              "    </tr>\n",
              "    <tr>\n",
              "      <th>25%</th>\n",
              "      <td>0.000000</td>\n",
              "      <td>0.029867</td>\n",
              "      <td>41.000000</td>\n",
              "      <td>0.000000</td>\n",
              "      <td>0.175074</td>\n",
              "      <td>3.903000e+03</td>\n",
              "      <td>5.000000</td>\n",
              "      <td>0.000000</td>\n",
              "      <td>0.000000</td>\n",
              "      <td>0.000000</td>\n",
              "      <td>0.000000</td>\n",
              "    </tr>\n",
              "    <tr>\n",
              "      <th>50%</th>\n",
              "      <td>0.000000</td>\n",
              "      <td>0.154181</td>\n",
              "      <td>52.000000</td>\n",
              "      <td>0.000000</td>\n",
              "      <td>0.366508</td>\n",
              "      <td>6.600000e+03</td>\n",
              "      <td>8.000000</td>\n",
              "      <td>0.000000</td>\n",
              "      <td>1.000000</td>\n",
              "      <td>0.000000</td>\n",
              "      <td>0.000000</td>\n",
              "    </tr>\n",
              "    <tr>\n",
              "      <th>75%</th>\n",
              "      <td>0.000000</td>\n",
              "      <td>0.559046</td>\n",
              "      <td>63.000000</td>\n",
              "      <td>0.000000</td>\n",
              "      <td>0.868254</td>\n",
              "      <td>7.400000e+03</td>\n",
              "      <td>11.000000</td>\n",
              "      <td>0.000000</td>\n",
              "      <td>2.000000</td>\n",
              "      <td>0.000000</td>\n",
              "      <td>1.000000</td>\n",
              "    </tr>\n",
              "    <tr>\n",
              "      <th>max</th>\n",
              "      <td>1.000000</td>\n",
              "      <td>50708.000000</td>\n",
              "      <td>109.000000</td>\n",
              "      <td>98.000000</td>\n",
              "      <td>329664.000000</td>\n",
              "      <td>3.008750e+06</td>\n",
              "      <td>58.000000</td>\n",
              "      <td>98.000000</td>\n",
              "      <td>54.000000</td>\n",
              "      <td>98.000000</td>\n",
              "      <td>20.000000</td>\n",
              "    </tr>\n",
              "  </tbody>\n",
              "</table>\n",
              "</div>\n",
              "      <button class=\"colab-df-convert\" onclick=\"convertToInteractive('df-ce59a785-be92-4bb5-9a3d-05f9b28fc15b')\"\n",
              "              title=\"Convert this dataframe to an interactive table.\"\n",
              "              style=\"display:none;\">\n",
              "        \n",
              "  <svg xmlns=\"http://www.w3.org/2000/svg\" height=\"24px\"viewBox=\"0 0 24 24\"\n",
              "       width=\"24px\">\n",
              "    <path d=\"M0 0h24v24H0V0z\" fill=\"none\"/>\n",
              "    <path d=\"M18.56 5.44l.94 2.06.94-2.06 2.06-.94-2.06-.94-.94-2.06-.94 2.06-2.06.94zm-11 1L8.5 8.5l.94-2.06 2.06-.94-2.06-.94L8.5 2.5l-.94 2.06-2.06.94zm10 10l.94 2.06.94-2.06 2.06-.94-2.06-.94-.94-2.06-.94 2.06-2.06.94z\"/><path d=\"M17.41 7.96l-1.37-1.37c-.4-.4-.92-.59-1.43-.59-.52 0-1.04.2-1.43.59L10.3 9.45l-7.72 7.72c-.78.78-.78 2.05 0 2.83L4 21.41c.39.39.9.59 1.41.59.51 0 1.02-.2 1.41-.59l7.78-7.78 2.81-2.81c.8-.78.8-2.07 0-2.86zM5.41 20L4 18.59l7.72-7.72 1.47 1.35L5.41 20z\"/>\n",
              "  </svg>\n",
              "      </button>\n",
              "      \n",
              "  <style>\n",
              "    .colab-df-container {\n",
              "      display:flex;\n",
              "      flex-wrap:wrap;\n",
              "      gap: 12px;\n",
              "    }\n",
              "\n",
              "    .colab-df-convert {\n",
              "      background-color: #E8F0FE;\n",
              "      border: none;\n",
              "      border-radius: 50%;\n",
              "      cursor: pointer;\n",
              "      display: none;\n",
              "      fill: #1967D2;\n",
              "      height: 32px;\n",
              "      padding: 0 0 0 0;\n",
              "      width: 32px;\n",
              "    }\n",
              "\n",
              "    .colab-df-convert:hover {\n",
              "      background-color: #E2EBFA;\n",
              "      box-shadow: 0px 1px 2px rgba(60, 64, 67, 0.3), 0px 1px 3px 1px rgba(60, 64, 67, 0.15);\n",
              "      fill: #174EA6;\n",
              "    }\n",
              "\n",
              "    [theme=dark] .colab-df-convert {\n",
              "      background-color: #3B4455;\n",
              "      fill: #D2E3FC;\n",
              "    }\n",
              "\n",
              "    [theme=dark] .colab-df-convert:hover {\n",
              "      background-color: #434B5C;\n",
              "      box-shadow: 0px 1px 3px 1px rgba(0, 0, 0, 0.15);\n",
              "      filter: drop-shadow(0px 1px 2px rgba(0, 0, 0, 0.3));\n",
              "      fill: #FFFFFF;\n",
              "    }\n",
              "  </style>\n",
              "\n",
              "      <script>\n",
              "        const buttonEl =\n",
              "          document.querySelector('#df-ce59a785-be92-4bb5-9a3d-05f9b28fc15b button.colab-df-convert');\n",
              "        buttonEl.style.display =\n",
              "          google.colab.kernel.accessAllowed ? 'block' : 'none';\n",
              "\n",
              "        async function convertToInteractive(key) {\n",
              "          const element = document.querySelector('#df-ce59a785-be92-4bb5-9a3d-05f9b28fc15b');\n",
              "          const dataTable =\n",
              "            await google.colab.kernel.invokeFunction('convertToInteractive',\n",
              "                                                     [key], {});\n",
              "          if (!dataTable) return;\n",
              "\n",
              "          const docLinkHtml = 'Like what you see? Visit the ' +\n",
              "            '<a target=\"_blank\" href=https://colab.research.google.com/notebooks/data_table.ipynb>data table notebook</a>'\n",
              "            + ' to learn more about interactive tables.';\n",
              "          element.innerHTML = '';\n",
              "          dataTable['output_type'] = 'display_data';\n",
              "          await google.colab.output.renderOutput(dataTable, element);\n",
              "          const docLink = document.createElement('div');\n",
              "          docLink.innerHTML = docLinkHtml;\n",
              "          element.appendChild(docLink);\n",
              "        }\n",
              "      </script>\n",
              "    </div>\n",
              "  </div>\n",
              "  "
            ],
            "text/plain": [
              "          seriousd2y          ruoul  ...     t60-89late     dependents\n",
              "count  150000.000000  150000.000000  ...  150000.000000  150000.000000\n",
              "mean        0.066840       6.048438  ...       0.240387       0.757222\n",
              "std         0.249746     249.755371  ...       4.155179       1.100404\n",
              "min         0.000000       0.000000  ...       0.000000       0.000000\n",
              "25%         0.000000       0.029867  ...       0.000000       0.000000\n",
              "50%         0.000000       0.154181  ...       0.000000       0.000000\n",
              "75%         0.000000       0.559046  ...       0.000000       1.000000\n",
              "max         1.000000   50708.000000  ...      98.000000      20.000000\n",
              "\n",
              "[8 rows x 11 columns]"
            ]
          },
          "metadata": {},
          "execution_count": 58
        }
      ]
    },
    {
      "cell_type": "markdown",
      "metadata": {
        "id": "Hbb7B2GQ_BVh"
      },
      "source": [
        "We need to scale the input labels so that our model doesn't treats labels differently.\n",
        "We will use MinMaxScaler to scale the values."
      ]
    },
    {
      "cell_type": "code",
      "metadata": {
        "id": "fF_nH8Y9kK7U"
      },
      "source": [
        "from sklearn.preprocessing import MinMaxScaler\n",
        "scalar = MinMaxScaler()"
      ],
      "execution_count": 59,
      "outputs": []
    },
    {
      "cell_type": "code",
      "metadata": {
        "colab": {
          "base_uri": "https://localhost:8080/",
          "height": 0
        },
        "id": "08OLkzhbkK7U",
        "scrolled": false,
        "outputId": "75a55974-dfe9-481d-bc3e-ca24c320dae1"
      },
      "source": [
        "train_df[input_cols].describe()"
      ],
      "execution_count": 60,
      "outputs": [
        {
          "output_type": "execute_result",
          "data": {
            "text/html": [
              "\n",
              "  <div id=\"df-0dbfc6d8-8172-4304-b241-ef11463d3a03\">\n",
              "    <div class=\"colab-df-container\">\n",
              "      <div>\n",
              "<style scoped>\n",
              "    .dataframe tbody tr th:only-of-type {\n",
              "        vertical-align: middle;\n",
              "    }\n",
              "\n",
              "    .dataframe tbody tr th {\n",
              "        vertical-align: top;\n",
              "    }\n",
              "\n",
              "    .dataframe thead th {\n",
              "        text-align: right;\n",
              "    }\n",
              "</style>\n",
              "<table border=\"1\" class=\"dataframe\">\n",
              "  <thead>\n",
              "    <tr style=\"text-align: right;\">\n",
              "      <th></th>\n",
              "      <th>ruoul</th>\n",
              "      <th>age</th>\n",
              "      <th>t30-59late</th>\n",
              "      <th>debtratio</th>\n",
              "      <th>incomepm</th>\n",
              "      <th>nocll</th>\n",
              "      <th>t90late</th>\n",
              "      <th>nrell</th>\n",
              "      <th>t60-89late</th>\n",
              "      <th>dependents</th>\n",
              "    </tr>\n",
              "  </thead>\n",
              "  <tbody>\n",
              "    <tr>\n",
              "      <th>count</th>\n",
              "      <td>150000.000000</td>\n",
              "      <td>150000.000000</td>\n",
              "      <td>150000.000000</td>\n",
              "      <td>150000.000000</td>\n",
              "      <td>1.500000e+05</td>\n",
              "      <td>150000.000000</td>\n",
              "      <td>150000.000000</td>\n",
              "      <td>150000.000000</td>\n",
              "      <td>150000.000000</td>\n",
              "      <td>150000.000000</td>\n",
              "    </tr>\n",
              "    <tr>\n",
              "      <th>mean</th>\n",
              "      <td>6.048438</td>\n",
              "      <td>52.295207</td>\n",
              "      <td>0.421033</td>\n",
              "      <td>353.005076</td>\n",
              "      <td>6.670221e+03</td>\n",
              "      <td>8.452760</td>\n",
              "      <td>0.265973</td>\n",
              "      <td>1.018240</td>\n",
              "      <td>0.240387</td>\n",
              "      <td>0.757222</td>\n",
              "    </tr>\n",
              "    <tr>\n",
              "      <th>std</th>\n",
              "      <td>249.755371</td>\n",
              "      <td>14.771866</td>\n",
              "      <td>4.192781</td>\n",
              "      <td>2037.818523</td>\n",
              "      <td>1.288045e+04</td>\n",
              "      <td>5.145951</td>\n",
              "      <td>4.169304</td>\n",
              "      <td>1.129771</td>\n",
              "      <td>4.155179</td>\n",
              "      <td>1.100404</td>\n",
              "    </tr>\n",
              "    <tr>\n",
              "      <th>min</th>\n",
              "      <td>0.000000</td>\n",
              "      <td>0.000000</td>\n",
              "      <td>0.000000</td>\n",
              "      <td>0.000000</td>\n",
              "      <td>0.000000e+00</td>\n",
              "      <td>0.000000</td>\n",
              "      <td>0.000000</td>\n",
              "      <td>0.000000</td>\n",
              "      <td>0.000000</td>\n",
              "      <td>0.000000</td>\n",
              "    </tr>\n",
              "    <tr>\n",
              "      <th>25%</th>\n",
              "      <td>0.029867</td>\n",
              "      <td>41.000000</td>\n",
              "      <td>0.000000</td>\n",
              "      <td>0.175074</td>\n",
              "      <td>3.903000e+03</td>\n",
              "      <td>5.000000</td>\n",
              "      <td>0.000000</td>\n",
              "      <td>0.000000</td>\n",
              "      <td>0.000000</td>\n",
              "      <td>0.000000</td>\n",
              "    </tr>\n",
              "    <tr>\n",
              "      <th>50%</th>\n",
              "      <td>0.154181</td>\n",
              "      <td>52.000000</td>\n",
              "      <td>0.000000</td>\n",
              "      <td>0.366508</td>\n",
              "      <td>6.600000e+03</td>\n",
              "      <td>8.000000</td>\n",
              "      <td>0.000000</td>\n",
              "      <td>1.000000</td>\n",
              "      <td>0.000000</td>\n",
              "      <td>0.000000</td>\n",
              "    </tr>\n",
              "    <tr>\n",
              "      <th>75%</th>\n",
              "      <td>0.559046</td>\n",
              "      <td>63.000000</td>\n",
              "      <td>0.000000</td>\n",
              "      <td>0.868254</td>\n",
              "      <td>7.400000e+03</td>\n",
              "      <td>11.000000</td>\n",
              "      <td>0.000000</td>\n",
              "      <td>2.000000</td>\n",
              "      <td>0.000000</td>\n",
              "      <td>1.000000</td>\n",
              "    </tr>\n",
              "    <tr>\n",
              "      <th>max</th>\n",
              "      <td>50708.000000</td>\n",
              "      <td>109.000000</td>\n",
              "      <td>98.000000</td>\n",
              "      <td>329664.000000</td>\n",
              "      <td>3.008750e+06</td>\n",
              "      <td>58.000000</td>\n",
              "      <td>98.000000</td>\n",
              "      <td>54.000000</td>\n",
              "      <td>98.000000</td>\n",
              "      <td>20.000000</td>\n",
              "    </tr>\n",
              "  </tbody>\n",
              "</table>\n",
              "</div>\n",
              "      <button class=\"colab-df-convert\" onclick=\"convertToInteractive('df-0dbfc6d8-8172-4304-b241-ef11463d3a03')\"\n",
              "              title=\"Convert this dataframe to an interactive table.\"\n",
              "              style=\"display:none;\">\n",
              "        \n",
              "  <svg xmlns=\"http://www.w3.org/2000/svg\" height=\"24px\"viewBox=\"0 0 24 24\"\n",
              "       width=\"24px\">\n",
              "    <path d=\"M0 0h24v24H0V0z\" fill=\"none\"/>\n",
              "    <path d=\"M18.56 5.44l.94 2.06.94-2.06 2.06-.94-2.06-.94-.94-2.06-.94 2.06-2.06.94zm-11 1L8.5 8.5l.94-2.06 2.06-.94-2.06-.94L8.5 2.5l-.94 2.06-2.06.94zm10 10l.94 2.06.94-2.06 2.06-.94-2.06-.94-.94-2.06-.94 2.06-2.06.94z\"/><path d=\"M17.41 7.96l-1.37-1.37c-.4-.4-.92-.59-1.43-.59-.52 0-1.04.2-1.43.59L10.3 9.45l-7.72 7.72c-.78.78-.78 2.05 0 2.83L4 21.41c.39.39.9.59 1.41.59.51 0 1.02-.2 1.41-.59l7.78-7.78 2.81-2.81c.8-.78.8-2.07 0-2.86zM5.41 20L4 18.59l7.72-7.72 1.47 1.35L5.41 20z\"/>\n",
              "  </svg>\n",
              "      </button>\n",
              "      \n",
              "  <style>\n",
              "    .colab-df-container {\n",
              "      display:flex;\n",
              "      flex-wrap:wrap;\n",
              "      gap: 12px;\n",
              "    }\n",
              "\n",
              "    .colab-df-convert {\n",
              "      background-color: #E8F0FE;\n",
              "      border: none;\n",
              "      border-radius: 50%;\n",
              "      cursor: pointer;\n",
              "      display: none;\n",
              "      fill: #1967D2;\n",
              "      height: 32px;\n",
              "      padding: 0 0 0 0;\n",
              "      width: 32px;\n",
              "    }\n",
              "\n",
              "    .colab-df-convert:hover {\n",
              "      background-color: #E2EBFA;\n",
              "      box-shadow: 0px 1px 2px rgba(60, 64, 67, 0.3), 0px 1px 3px 1px rgba(60, 64, 67, 0.15);\n",
              "      fill: #174EA6;\n",
              "    }\n",
              "\n",
              "    [theme=dark] .colab-df-convert {\n",
              "      background-color: #3B4455;\n",
              "      fill: #D2E3FC;\n",
              "    }\n",
              "\n",
              "    [theme=dark] .colab-df-convert:hover {\n",
              "      background-color: #434B5C;\n",
              "      box-shadow: 0px 1px 3px 1px rgba(0, 0, 0, 0.15);\n",
              "      filter: drop-shadow(0px 1px 2px rgba(0, 0, 0, 0.3));\n",
              "      fill: #FFFFFF;\n",
              "    }\n",
              "  </style>\n",
              "\n",
              "      <script>\n",
              "        const buttonEl =\n",
              "          document.querySelector('#df-0dbfc6d8-8172-4304-b241-ef11463d3a03 button.colab-df-convert');\n",
              "        buttonEl.style.display =\n",
              "          google.colab.kernel.accessAllowed ? 'block' : 'none';\n",
              "\n",
              "        async function convertToInteractive(key) {\n",
              "          const element = document.querySelector('#df-0dbfc6d8-8172-4304-b241-ef11463d3a03');\n",
              "          const dataTable =\n",
              "            await google.colab.kernel.invokeFunction('convertToInteractive',\n",
              "                                                     [key], {});\n",
              "          if (!dataTable) return;\n",
              "\n",
              "          const docLinkHtml = 'Like what you see? Visit the ' +\n",
              "            '<a target=\"_blank\" href=https://colab.research.google.com/notebooks/data_table.ipynb>data table notebook</a>'\n",
              "            + ' to learn more about interactive tables.';\n",
              "          element.innerHTML = '';\n",
              "          dataTable['output_type'] = 'display_data';\n",
              "          await google.colab.output.renderOutput(dataTable, element);\n",
              "          const docLink = document.createElement('div');\n",
              "          docLink.innerHTML = docLinkHtml;\n",
              "          element.appendChild(docLink);\n",
              "        }\n",
              "      </script>\n",
              "    </div>\n",
              "  </div>\n",
              "  "
            ],
            "text/plain": [
              "               ruoul            age  ...     t60-89late     dependents\n",
              "count  150000.000000  150000.000000  ...  150000.000000  150000.000000\n",
              "mean        6.048438      52.295207  ...       0.240387       0.757222\n",
              "std       249.755371      14.771866  ...       4.155179       1.100404\n",
              "min         0.000000       0.000000  ...       0.000000       0.000000\n",
              "25%         0.029867      41.000000  ...       0.000000       0.000000\n",
              "50%         0.154181      52.000000  ...       0.000000       0.000000\n",
              "75%         0.559046      63.000000  ...       0.000000       1.000000\n",
              "max     50708.000000     109.000000  ...      98.000000      20.000000\n",
              "\n",
              "[8 rows x 10 columns]"
            ]
          },
          "metadata": {},
          "execution_count": 60
        }
      ]
    },
    {
      "cell_type": "code",
      "metadata": {
        "id": "zOqt1ZD-kK7U"
      },
      "source": [
        "train_df[input_cols] = scalar.fit_transform(train_df[input_cols])\n",
        "test_df[input_cols] = scalar.fit_transform(test_df[input_cols])"
      ],
      "execution_count": 61,
      "outputs": []
    },
    {
      "cell_type": "code",
      "metadata": {
        "colab": {
          "base_uri": "https://localhost:8080/",
          "height": 0
        },
        "id": "o-4DXA2QkK7U",
        "outputId": "61003953-37fc-48f5-a5f3-e4431febf3cc"
      },
      "source": [
        "train_df[input_cols].describe()"
      ],
      "execution_count": 62,
      "outputs": [
        {
          "output_type": "execute_result",
          "data": {
            "text/html": [
              "\n",
              "  <div id=\"df-7aaa8aed-d934-416a-9d6b-3888f0f6732d\">\n",
              "    <div class=\"colab-df-container\">\n",
              "      <div>\n",
              "<style scoped>\n",
              "    .dataframe tbody tr th:only-of-type {\n",
              "        vertical-align: middle;\n",
              "    }\n",
              "\n",
              "    .dataframe tbody tr th {\n",
              "        vertical-align: top;\n",
              "    }\n",
              "\n",
              "    .dataframe thead th {\n",
              "        text-align: right;\n",
              "    }\n",
              "</style>\n",
              "<table border=\"1\" class=\"dataframe\">\n",
              "  <thead>\n",
              "    <tr style=\"text-align: right;\">\n",
              "      <th></th>\n",
              "      <th>ruoul</th>\n",
              "      <th>age</th>\n",
              "      <th>t30-59late</th>\n",
              "      <th>debtratio</th>\n",
              "      <th>incomepm</th>\n",
              "      <th>nocll</th>\n",
              "      <th>t90late</th>\n",
              "      <th>nrell</th>\n",
              "      <th>t60-89late</th>\n",
              "      <th>dependents</th>\n",
              "    </tr>\n",
              "  </thead>\n",
              "  <tbody>\n",
              "    <tr>\n",
              "      <th>count</th>\n",
              "      <td>1.500000e+05</td>\n",
              "      <td>150000.000000</td>\n",
              "      <td>150000.000000</td>\n",
              "      <td>1.500000e+05</td>\n",
              "      <td>150000.000000</td>\n",
              "      <td>150000.000000</td>\n",
              "      <td>150000.000000</td>\n",
              "      <td>150000.000000</td>\n",
              "      <td>150000.000000</td>\n",
              "      <td>150000.000000</td>\n",
              "    </tr>\n",
              "    <tr>\n",
              "      <th>mean</th>\n",
              "      <td>1.192798e-04</td>\n",
              "      <td>0.479773</td>\n",
              "      <td>0.004296</td>\n",
              "      <td>1.070803e-03</td>\n",
              "      <td>0.002217</td>\n",
              "      <td>0.145737</td>\n",
              "      <td>0.002714</td>\n",
              "      <td>0.018856</td>\n",
              "      <td>0.002453</td>\n",
              "      <td>0.037861</td>\n",
              "    </tr>\n",
              "    <tr>\n",
              "      <th>std</th>\n",
              "      <td>4.925364e-03</td>\n",
              "      <td>0.135522</td>\n",
              "      <td>0.042783</td>\n",
              "      <td>6.181502e-03</td>\n",
              "      <td>0.004281</td>\n",
              "      <td>0.088723</td>\n",
              "      <td>0.042544</td>\n",
              "      <td>0.020922</td>\n",
              "      <td>0.042400</td>\n",
              "      <td>0.055020</td>\n",
              "    </tr>\n",
              "    <tr>\n",
              "      <th>min</th>\n",
              "      <td>0.000000e+00</td>\n",
              "      <td>0.000000</td>\n",
              "      <td>0.000000</td>\n",
              "      <td>0.000000e+00</td>\n",
              "      <td>0.000000</td>\n",
              "      <td>0.000000</td>\n",
              "      <td>0.000000</td>\n",
              "      <td>0.000000</td>\n",
              "      <td>0.000000</td>\n",
              "      <td>0.000000</td>\n",
              "    </tr>\n",
              "    <tr>\n",
              "      <th>25%</th>\n",
              "      <td>5.890085e-07</td>\n",
              "      <td>0.376147</td>\n",
              "      <td>0.000000</td>\n",
              "      <td>5.310675e-07</td>\n",
              "      <td>0.001297</td>\n",
              "      <td>0.086207</td>\n",
              "      <td>0.000000</td>\n",
              "      <td>0.000000</td>\n",
              "      <td>0.000000</td>\n",
              "      <td>0.000000</td>\n",
              "    </tr>\n",
              "    <tr>\n",
              "      <th>50%</th>\n",
              "      <td>3.040560e-06</td>\n",
              "      <td>0.477064</td>\n",
              "      <td>0.000000</td>\n",
              "      <td>1.111762e-06</td>\n",
              "      <td>0.002194</td>\n",
              "      <td>0.137931</td>\n",
              "      <td>0.000000</td>\n",
              "      <td>0.018519</td>\n",
              "      <td>0.000000</td>\n",
              "      <td>0.000000</td>\n",
              "    </tr>\n",
              "    <tr>\n",
              "      <th>75%</th>\n",
              "      <td>1.102481e-05</td>\n",
              "      <td>0.577982</td>\n",
              "      <td>0.000000</td>\n",
              "      <td>2.633754e-06</td>\n",
              "      <td>0.002459</td>\n",
              "      <td>0.189655</td>\n",
              "      <td>0.000000</td>\n",
              "      <td>0.037037</td>\n",
              "      <td>0.000000</td>\n",
              "      <td>0.050000</td>\n",
              "    </tr>\n",
              "    <tr>\n",
              "      <th>max</th>\n",
              "      <td>1.000000e+00</td>\n",
              "      <td>1.000000</td>\n",
              "      <td>1.000000</td>\n",
              "      <td>1.000000e+00</td>\n",
              "      <td>1.000000</td>\n",
              "      <td>1.000000</td>\n",
              "      <td>1.000000</td>\n",
              "      <td>1.000000</td>\n",
              "      <td>1.000000</td>\n",
              "      <td>1.000000</td>\n",
              "    </tr>\n",
              "  </tbody>\n",
              "</table>\n",
              "</div>\n",
              "      <button class=\"colab-df-convert\" onclick=\"convertToInteractive('df-7aaa8aed-d934-416a-9d6b-3888f0f6732d')\"\n",
              "              title=\"Convert this dataframe to an interactive table.\"\n",
              "              style=\"display:none;\">\n",
              "        \n",
              "  <svg xmlns=\"http://www.w3.org/2000/svg\" height=\"24px\"viewBox=\"0 0 24 24\"\n",
              "       width=\"24px\">\n",
              "    <path d=\"M0 0h24v24H0V0z\" fill=\"none\"/>\n",
              "    <path d=\"M18.56 5.44l.94 2.06.94-2.06 2.06-.94-2.06-.94-.94-2.06-.94 2.06-2.06.94zm-11 1L8.5 8.5l.94-2.06 2.06-.94-2.06-.94L8.5 2.5l-.94 2.06-2.06.94zm10 10l.94 2.06.94-2.06 2.06-.94-2.06-.94-.94-2.06-.94 2.06-2.06.94z\"/><path d=\"M17.41 7.96l-1.37-1.37c-.4-.4-.92-.59-1.43-.59-.52 0-1.04.2-1.43.59L10.3 9.45l-7.72 7.72c-.78.78-.78 2.05 0 2.83L4 21.41c.39.39.9.59 1.41.59.51 0 1.02-.2 1.41-.59l7.78-7.78 2.81-2.81c.8-.78.8-2.07 0-2.86zM5.41 20L4 18.59l7.72-7.72 1.47 1.35L5.41 20z\"/>\n",
              "  </svg>\n",
              "      </button>\n",
              "      \n",
              "  <style>\n",
              "    .colab-df-container {\n",
              "      display:flex;\n",
              "      flex-wrap:wrap;\n",
              "      gap: 12px;\n",
              "    }\n",
              "\n",
              "    .colab-df-convert {\n",
              "      background-color: #E8F0FE;\n",
              "      border: none;\n",
              "      border-radius: 50%;\n",
              "      cursor: pointer;\n",
              "      display: none;\n",
              "      fill: #1967D2;\n",
              "      height: 32px;\n",
              "      padding: 0 0 0 0;\n",
              "      width: 32px;\n",
              "    }\n",
              "\n",
              "    .colab-df-convert:hover {\n",
              "      background-color: #E2EBFA;\n",
              "      box-shadow: 0px 1px 2px rgba(60, 64, 67, 0.3), 0px 1px 3px 1px rgba(60, 64, 67, 0.15);\n",
              "      fill: #174EA6;\n",
              "    }\n",
              "\n",
              "    [theme=dark] .colab-df-convert {\n",
              "      background-color: #3B4455;\n",
              "      fill: #D2E3FC;\n",
              "    }\n",
              "\n",
              "    [theme=dark] .colab-df-convert:hover {\n",
              "      background-color: #434B5C;\n",
              "      box-shadow: 0px 1px 3px 1px rgba(0, 0, 0, 0.15);\n",
              "      filter: drop-shadow(0px 1px 2px rgba(0, 0, 0, 0.3));\n",
              "      fill: #FFFFFF;\n",
              "    }\n",
              "  </style>\n",
              "\n",
              "      <script>\n",
              "        const buttonEl =\n",
              "          document.querySelector('#df-7aaa8aed-d934-416a-9d6b-3888f0f6732d button.colab-df-convert');\n",
              "        buttonEl.style.display =\n",
              "          google.colab.kernel.accessAllowed ? 'block' : 'none';\n",
              "\n",
              "        async function convertToInteractive(key) {\n",
              "          const element = document.querySelector('#df-7aaa8aed-d934-416a-9d6b-3888f0f6732d');\n",
              "          const dataTable =\n",
              "            await google.colab.kernel.invokeFunction('convertToInteractive',\n",
              "                                                     [key], {});\n",
              "          if (!dataTable) return;\n",
              "\n",
              "          const docLinkHtml = 'Like what you see? Visit the ' +\n",
              "            '<a target=\"_blank\" href=https://colab.research.google.com/notebooks/data_table.ipynb>data table notebook</a>'\n",
              "            + ' to learn more about interactive tables.';\n",
              "          element.innerHTML = '';\n",
              "          dataTable['output_type'] = 'display_data';\n",
              "          await google.colab.output.renderOutput(dataTable, element);\n",
              "          const docLink = document.createElement('div');\n",
              "          docLink.innerHTML = docLinkHtml;\n",
              "          element.appendChild(docLink);\n",
              "        }\n",
              "      </script>\n",
              "    </div>\n",
              "  </div>\n",
              "  "
            ],
            "text/plain": [
              "              ruoul            age  ...     t60-89late     dependents\n",
              "count  1.500000e+05  150000.000000  ...  150000.000000  150000.000000\n",
              "mean   1.192798e-04       0.479773  ...       0.002453       0.037861\n",
              "std    4.925364e-03       0.135522  ...       0.042400       0.055020\n",
              "min    0.000000e+00       0.000000  ...       0.000000       0.000000\n",
              "25%    5.890085e-07       0.376147  ...       0.000000       0.000000\n",
              "50%    3.040560e-06       0.477064  ...       0.000000       0.000000\n",
              "75%    1.102481e-05       0.577982  ...       0.000000       0.050000\n",
              "max    1.000000e+00       1.000000  ...       1.000000       1.000000\n",
              "\n",
              "[8 rows x 10 columns]"
            ]
          },
          "metadata": {},
          "execution_count": 62
        }
      ]
    },
    {
      "cell_type": "markdown",
      "source": [
        "## Choosing labels to use for training"
      ],
      "metadata": {
        "id": "LT_KigosIqxW"
      }
    },
    {
      "cell_type": "code",
      "source": [
        "import seaborn as sns\n",
        "import matplotlib.pyplot as plt\n",
        "sns.set(rc={'figure.figsize':(20,12)})\n",
        "\n",
        "sns.heatmap(train_df.corr(), cmap='Reds', annot=True)\n",
        "plt.title('Correlation Matrix');"
      ],
      "metadata": {
        "colab": {
          "base_uri": "https://localhost:8080/",
          "height": 719
        },
        "id": "NJquPlFHMRgi",
        "outputId": "47bd79d4-2f6f-4a2f-bb6c-921bca8fbd74"
      },
      "execution_count": 63,
      "outputs": [
        {
          "output_type": "display_data",
          "data": {
            "image/png": "[encoded data removed]",
            "text/plain": [
              "<Figure size 1440x864 with 2 Axes>"
            ]
          },
          "metadata": {}
        }
      ]
    },
    {
      "cell_type": "code",
      "source": [
        "# dropping redundant labels\n",
        "input_cols = input_cols.drop(['t30-59late', 't60-89late'])"
      ],
      "metadata": {
        "id": "fdGKvpUtXlF0"
      },
      "execution_count": 64,
      "outputs": []
    },
    {
      "cell_type": "markdown",
      "metadata": {
        "id": "zYZ1l9u4B_Gw"
      },
      "source": [
        "## Splitting dataset into train and test parts"
      ]
    },
    {
      "cell_type": "code",
      "metadata": {
        "id": "htXWtuhEB9a8"
      },
      "source": [
        "from sklearn.model_selection import train_test_split"
      ],
      "execution_count": 66,
      "outputs": []
    },
    {
      "cell_type": "code",
      "metadata": {
        "id": "N4VqLaYeE5Q0"
      },
      "source": [
        "X_train, X_valid, y_train, y_valid = train_test_split(train_df[input_cols], train_df[target_cols], test_size=0.25, random_state=21)"
      ],
      "execution_count": 67,
      "outputs": []
    },
    {
      "cell_type": "markdown",
      "metadata": {
        "id": "YbtjWOpfbtXB"
      },
      "source": [
        "## Model creation & training"
      ]
    },
    {
      "cell_type": "markdown",
      "metadata": {
        "id": "HmCqEFzf_BVj"
      },
      "source": [
        "Lets first define a function which prints the accuracy of models on training and validation data."
      ]
    },
    {
      "cell_type": "code",
      "metadata": {
        "id": "sX09qsW9_BVj",
        "scrolled": true
      },
      "source": [
        "from sklearn.metrics import accuracy_score, confusion_matrix\n",
        "def accu(modelx):\n",
        "    print(\"Accuracy score (train):       {0:.3f} %\".format(accuracy_score(y_train, modelx.predict(X_train))*100))\n",
        "    print(\"Accuracy score (validation):  {0:.3f} %\".format(accuracy_score(y_valid, modelx.predict(X_valid))*100))"
      ],
      "execution_count": 68,
      "outputs": []
    },
    {
      "cell_type": "markdown",
      "metadata": {
        "id": "1vmVyo4U_BVk"
      },
      "source": [
        "### Using GradientBoostingClassifier"
      ]
    },
    {
      "cell_type": "code",
      "metadata": {
        "id": "NwfrrnWVbrJo"
      },
      "source": [
        "from sklearn.ensemble import GradientBoostingClassifier"
      ],
      "execution_count": 69,
      "outputs": []
    },
    {
      "cell_type": "code",
      "metadata": {
        "id": "5qXzh9eskK7U"
      },
      "source": [
        "# model with default parameters\n",
        "gbc_model = GradientBoostingClassifier(random_state=21)"
      ],
      "execution_count": 70,
      "outputs": []
    },
    {
      "cell_type": "code",
      "metadata": {
        "colab": {
          "base_uri": "https://localhost:8080/"
        },
        "id": "yEPYt-VI_BVk",
        "outputId": "260c814a-58d1-4933-ff8f-bb652a19288f"
      },
      "source": [
        "gbc_model.fit(X_train, y_train.seriousd2y)"
      ],
      "execution_count": 71,
      "outputs": [
        {
          "output_type": "execute_result",
          "data": {
            "text/plain": [
              "GradientBoostingClassifier(random_state=21)"
            ]
          },
          "metadata": {},
          "execution_count": 71
        }
      ]
    },
    {
      "cell_type": "code",
      "metadata": {
        "id": "YEZL-IhR_BVk",
        "colab": {
          "base_uri": "https://localhost:8080/"
        },
        "outputId": "dda2d2f8-2bf5-4d39-e40f-a2e57294e0bb"
      },
      "source": [
        "accu(gbc_model)"
      ],
      "execution_count": 72,
      "outputs": [
        {
          "output_type": "stream",
          "name": "stdout",
          "text": [
            "Accuracy score (train):       93.661 %\n",
            "Accuracy score (validation):  93.613 %\n"
          ]
        }
      ]
    },
    {
      "cell_type": "markdown",
      "metadata": {
        "id": "OlJCjj4g_BVl"
      },
      "source": [
        "Accuracy score of model on validation data is nearly same as score on training data.\n",
        "Let's see if we can improve it by modifying some of the parameters."
      ]
    },
    {
      "cell_type": "code",
      "metadata": {
        "id": "q6QP0wnl_BVl",
        "colab": {
          "base_uri": "https://localhost:8080/"
        },
        "outputId": "a6e94ce5-e87a-471e-cb7b-057fc124db40"
      },
      "source": [
        "#lets try by using different learning rates\n",
        "for x in [0.5, 0.25, 0.05]:\n",
        "    gbc_model1 = GradientBoostingClassifier(\n",
        "        learning_rate=x,\n",
        "        n_estimators=200,\n",
        "        random_state=21,\n",
        "    )\n",
        "    gbc_model1.fit(X_train, y_train.seriousd2y)\n",
        "    print(f\"Learning rate : {x}\")\n",
        "    accu(gbc_model1)"
      ],
      "execution_count": 74,
      "outputs": [
        {
          "output_type": "stream",
          "name": "stdout",
          "text": [
            "Learning rate : 0.5\n",
            "Accuracy score (train):       94.101 %\n",
            "Accuracy score (validation):  93.429 %\n",
            "Learning rate : 0.25\n",
            "Accuracy score (train):       93.932 %\n",
            "Accuracy score (validation):  93.533 %\n",
            "Learning rate : 0.05\n",
            "Accuracy score (train):       93.660 %\n",
            "Accuracy score (validation):  93.603 %\n"
          ]
        }
      ]
    },
    {
      "cell_type": "markdown",
      "metadata": {
        "id": "Q_il2hwG_BVm"
      },
      "source": [
        "The above results show improvement on accuracy score on train data, but it's not what we're aiming for. Accuracy score on validation data is more or less the same, so we will continue with learning rate of 0.1 (which is the default)."
      ]
    },
    {
      "cell_type": "markdown",
      "metadata": {
        "id": "EplpMOFy_BVm"
      },
      "source": [
        "Now lets try the same approach for n_estimators."
      ]
    },
    {
      "cell_type": "code",
      "metadata": {
        "id": "-wWapUVy_BVm",
        "scrolled": true,
        "colab": {
          "base_uri": "https://localhost:8080/"
        },
        "outputId": "11e4acfa-c24a-4b5d-b20f-b3d89cb2ed24"
      },
      "source": [
        "for x in range(250,851,100):\n",
        "    gbc_model2 = GradientBoostingClassifier(\n",
        "        learning_rate=0.1,\n",
        "        n_estimators=x,\n",
        "        random_state=21,\n",
        "    )\n",
        "    gbc_model2.fit(X_train, y_train.seriousd2y)\n",
        "    print(f\"n_estimators : {x}\")\n",
        "    accu(gbc_model2)"
      ],
      "execution_count": null,
      "outputs": [
        {
          "output_type": "stream",
          "name": "stdout",
          "text": [
            "n_estimators : 250\n",
            "Accuracy score (train):       93.780 %\n",
            "Accuracy score (validation):  93.624 %\n",
            "n_estimators : 350\n",
            "Accuracy score (train):       93.834 %\n",
            "Accuracy score (validation):  93.608 %\n",
            "n_estimators : 450\n",
            "Accuracy score (train):       93.886 %\n",
            "Accuracy score (validation):  93.571 %\n",
            "n_estimators : 550\n",
            "Accuracy score (train):       93.928 %\n",
            "Accuracy score (validation):  93.581 %\n"
          ]
        }
      ]
    },
    {
      "cell_type": "markdown",
      "metadata": {
        "id": "iFzjo7Mg_BVn"
      },
      "source": [
        "From the above results, we see that changing n_estimators doesn't help in improving the accuracy."
      ]
    },
    {
      "cell_type": "markdown",
      "metadata": {
        "id": "-WI5yVc4Fwgx"
      },
      "source": [
        "Let's repeat the same steps for max_depth parameter."
      ]
    },
    {
      "cell_type": "code",
      "metadata": {
        "id": "1F8sbn8kN6yj"
      },
      "source": [
        "def max_depth_accu(md):\n",
        "  gbc_model3 = GradientBoostingClassifier(max_depth=md,\n",
        "                                      learning_rate=0.1,\n",
        "                                      n_estimators=200,\n",
        "                                      random_state=21,\n",
        "                                      )\n",
        "  gbc_model3.fit(X_train, y_train.seriousd2y)\n",
        "  print(f\"max_depth : {md}\")\n",
        "  accu(gbc_model3)"
      ],
      "execution_count": null,
      "outputs": []
    },
    {
      "cell_type": "code",
      "metadata": {
        "id": "jn1TKdVHOB8U"
      },
      "source": [
        "for md in range(4, 11):\n",
        "  max_depth_accu(md)"
      ],
      "execution_count": null,
      "outputs": []
    },
    {
      "cell_type": "markdown",
      "metadata": {
        "id": "V7jTx3xqRkLd"
      },
      "source": [
        "Changing the depths too doesn't seems to increase accuracy."
      ]
    },
    {
      "cell_type": "markdown",
      "metadata": {
        "id": "nDkLKs44SG_4"
      },
      "source": [
        "\n",
        "Hence the best GradientBoostingClassifier model will have the following parameters:\n",
        "* n_estimators = 200,\n",
        "* max_depth = 3 (default)\n",
        "* learning_rate = 0.1 (default)"
      ]
    },
    {
      "cell_type": "code",
      "metadata": {
        "id": "HyljZnJm_BVn"
      },
      "source": [
        "best_gbc = GradientBoostingClassifier(\n",
        "        learning_rate=0.1,\n",
        "        n_estimators=200,\n",
        "        max_depth=3,\n",
        "        random_state=21,\n",
        "    )"
      ],
      "execution_count": null,
      "outputs": []
    },
    {
      "cell_type": "markdown",
      "metadata": {
        "id": "RKb3Nfwx_BVn"
      },
      "source": [
        "### Using XGBClassifier"
      ]
    },
    {
      "cell_type": "code",
      "metadata": {
        "id": "jz6-9v-z_BVn"
      },
      "source": [
        "from xgboost import XGBClassifier"
      ],
      "execution_count": null,
      "outputs": []
    },
    {
      "cell_type": "code",
      "metadata": {
        "id": "_eUaxu4S_BVo"
      },
      "source": [
        "# model with default parameters\n",
        "xgc_model = XGBClassifier(\n",
        "    random_state=21,\n",
        "    n_jobs=-1,\n",
        "    use_label_encoder=False,\n",
        ")"
      ],
      "execution_count": null,
      "outputs": []
    },
    {
      "cell_type": "code",
      "metadata": {
        "collapsed": true,
        "id": "laA3xFsM_BVo"
      },
      "source": [
        "xgc_model.fit(X_train, y_train.seriousd2y)"
      ],
      "execution_count": null,
      "outputs": []
    },
    {
      "cell_type": "code",
      "metadata": {
        "id": "ZAVLfpKn_BVo"
      },
      "source": [
        "accu(xgc_model)"
      ],
      "execution_count": null,
      "outputs": []
    },
    {
      "cell_type": "markdown",
      "metadata": {
        "id": "DFiqSzNqVjhf"
      },
      "source": [
        "Accuracy of this model is nearly same as GradientBoostingClassifier. Let's see if we can improve this."
      ]
    },
    {
      "cell_type": "markdown",
      "metadata": {
        "id": "cwV49qjLZmvU"
      },
      "source": [
        "Testing with different learning rates."
      ]
    },
    {
      "cell_type": "code",
      "metadata": {
        "id": "Go_Ao7aTYp1K"
      },
      "source": [
        "for x in [0.75,0.5,0.25,0.1,0.05]:\n",
        "  xgc_model1 = XGBClassifier(\n",
        "      learning_rate=x,\n",
        "      n_jobs=-1,\n",
        "      random_state=21,\n",
        "      verbosity=0,\n",
        "      use_label_encoder=False,\n",
        "  )\n",
        "  xgc_model1.fit(X_train, y_train.seriousd2y)\n",
        "  print(f\"Learning rate : {x}\")\n",
        "  accu(xgc_model1)"
      ],
      "execution_count": null,
      "outputs": []
    },
    {
      "cell_type": "markdown",
      "metadata": {
        "id": "w0wd5ezrcIwn"
      },
      "source": [
        "learning rate of 0.1 performs slightly better than the default one. We will be using this in further models."
      ]
    },
    {
      "cell_type": "markdown",
      "metadata": {
        "id": "uUC0knkrcYN5"
      },
      "source": [
        "Let's repeat the above steps for n_estimators parameter."
      ]
    },
    {
      "cell_type": "code",
      "metadata": {
        "id": "p-5HrT7FcXw1"
      },
      "source": [
        "for x in range(200,1001,100):\n",
        "  xgc_model2 = XGBClassifier(\n",
        "      learning_rate=0.1,\n",
        "      n_estimators=x,\n",
        "      n_jobs=-1,\n",
        "      random_state=21,\n",
        "      verbosity=0,\n",
        "      use_label_encoder=False,\n",
        "  )\n",
        "  xgc_model2.fit(X_train, y_train.seriousd2y)\n",
        "  print(f\"n_estimators : {x}\")\n",
        "  accu(xgc_model2)"
      ],
      "execution_count": null,
      "outputs": []
    },
    {
      "cell_type": "markdown",
      "metadata": {
        "id": "U04JuSVxefqb"
      },
      "source": [
        "n_estimator with a value of 100 performs better than the above results. So we'll continue with 100 for n_estimators."
      ]
    },
    {
      "cell_type": "code",
      "metadata": {
        "id": "3f7XHlaXfQGi"
      },
      "source": [
        "best_xgc = XGBClassifier(\n",
        "      learning_rate=0.1,\n",
        "      n_jobs=-1,\n",
        "      random_state=21,\n",
        "      verbosity=0,\n",
        "      use_label_encoder=False,\n",
        "  )"
      ],
      "execution_count": null,
      "outputs": []
    },
    {
      "cell_type": "markdown",
      "metadata": {
        "id": "1iuNPHKqQXOQ"
      },
      "source": [
        "## Testing model on original test data"
      ]
    },
    {
      "cell_type": "markdown",
      "metadata": {
        "id": "BiVZpc1Voe65"
      },
      "source": [
        "Since accuracy of GradientBoostingClassifier is better (slightly) than XGBClassifier, we will use it for our predictions."
      ]
    },
    {
      "cell_type": "code",
      "metadata": {
        "id": "p72X4uPuobjN"
      },
      "source": [
        "model = best_gbc"
      ],
      "execution_count": null,
      "outputs": []
    },
    {
      "cell_type": "code",
      "metadata": {
        "id": "r1bUUl9pqa3N"
      },
      "source": [
        "model.fit(X_train, y_train.SeriousDlqin2yrs)"
      ],
      "execution_count": null,
      "outputs": []
    },
    {
      "cell_type": "code",
      "metadata": {
        "id": "YSKk5Y4-Qf8E"
      },
      "source": [
        "preds = model.predict_proba(test_df[input_cols])"
      ],
      "execution_count": null,
      "outputs": []
    },
    {
      "cell_type": "code",
      "metadata": {
        "id": "tBtItbIzaWrQ"
      },
      "source": [
        "preds"
      ],
      "execution_count": null,
      "outputs": []
    },
    {
      "cell_type": "code",
      "metadata": {
        "id": "GPPCDq-BQ5uE"
      },
      "source": [
        "result_df = pd.DataFrame({\n",
        "    'Id': np.arange(1, 101504),\n",
        "    'Probability': preds[:,1]\n",
        "})"
      ],
      "execution_count": null,
      "outputs": []
    },
    {
      "cell_type": "code",
      "metadata": {
        "id": "TPtuBXssaQ48"
      },
      "source": [
        "result_df.to_csv('submission.csv', index=False)"
      ],
      "execution_count": null,
      "outputs": []
    },
    {
      "cell_type": "markdown",
      "metadata": {
        "id": "eSC68CQ5xvwI"
      },
      "source": [
        "best_gbc model gives an accuracy of 0.82829 on the test data.\n",
        "Let's check accuracy of best_xgc model."
      ]
    },
    {
      "cell_type": "code",
      "metadata": {
        "colab": {
          "background_save": true
        },
        "id": "ljf-bv-mx2G1"
      },
      "source": [
        "model2 = best_xgc"
      ],
      "execution_count": null,
      "outputs": []
    },
    {
      "cell_type": "code",
      "metadata": {
        "colab": {
          "background_save": true
        },
        "id": "lhM7lxbXyBeI",
        "outputId": "f1c6ae3c-5312-4490-f797-6596dfd8d54a"
      },
      "source": [
        "model2.fit(X_train, y_train.seriousd2y)"
      ],
      "execution_count": null,
      "outputs": [
        {
          "data": {
            "text/plain": [
              "XGBClassifier(base_score=0.5, booster='gbtree', colsample_bylevel=1,\n",
              "              colsample_bynode=1, colsample_bytree=1, gamma=0, gpu_id=-1,\n",
              "              importance_type='gain', interaction_constraints='',\n",
              "              learning_rate=0.1, max_delta_step=0, max_depth=6,\n",
              "              min_child_weight=1, missing=nan, monotone_constraints='()',\n",
              "              n_estimators=100, n_jobs=-1, num_parallel_tree=1,\n",
              "              objective='binary:logistic', random_state=21, reg_alpha=0,\n",
              "              reg_lambda=1, scale_pos_weight=1, subsample=1,\n",
              "              tree_method='exact', use_label_encoder=False,\n",
              "              validate_parameters=1, verbosity=0)"
            ]
          },
          "execution_count": null,
          "metadata": {},
          "output_type": "execute_result"
        }
      ]
    },
    {
      "cell_type": "code",
      "metadata": {
        "colab": {
          "background_save": true
        },
        "id": "aX6ea-23yEm9"
      },
      "source": [
        "preds2 = model2.predict_proba(test_df[input_cols])"
      ],
      "execution_count": null,
      "outputs": []
    },
    {
      "cell_type": "code",
      "metadata": {
        "colab": {
          "background_save": true
        },
        "id": "9tzTmR_KyIkj",
        "outputId": "aeb4a926-3f46-454c-8e72-13da5f241377"
      },
      "source": [
        "preds2"
      ],
      "execution_count": null,
      "outputs": [
        {
          "data": {
            "text/plain": [
              "array([[0.8484671 , 0.15153287],\n",
              "       [0.76079106, 0.23920895],\n",
              "       [0.99001646, 0.00998356],\n",
              "       ...,\n",
              "       [0.98858637, 0.01141361],\n",
              "       [0.6849971 , 0.31500292],\n",
              "       [0.76249325, 0.23750672]], dtype=float32)"
            ]
          },
          "execution_count": null,
          "metadata": {},
          "output_type": "execute_result"
        }
      ]
    },
    {
      "cell_type": "code",
      "metadata": {
        "colab": {
          "background_save": true
        },
        "id": "P9mN9IU7yNIT"
      },
      "source": [
        "result_df2 = pd.DataFrame({\n",
        "    'Id': np.arange(1, 101504),\n",
        "    'Probability': preds2[:,1]\n",
        "})"
      ],
      "execution_count": null,
      "outputs": []
    },
    {
      "cell_type": "code",
      "metadata": {
        "colab": {
          "background_save": true
        },
        "id": "zlbHEIaiyYLM"
      },
      "source": [
        "result_df2.to_csv('submission2.csv', index=False)"
      ],
      "execution_count": null,
      "outputs": []
    },
    {
      "cell_type": "markdown",
      "metadata": {
        "id": "owxC-rt-yeKx"
      },
      "source": [
        "Though accuracy of both the models on validation data was nearly same, the best_xgc model performs significantly better on the test data with an accuracy score of 0.84117."
      ]
    },
    {
      "cell_type": "code",
      "metadata": {
        "colab": {
          "base_uri": "https://localhost:8080/"
        },
        "id": "5VkriuQh8UNu",
        "outputId": "130762ed-4b82-4f45-baed-804441c96024"
      },
      "source": [
        "model.predict(test_df[input_cols])"
      ],
      "execution_count": null,
      "outputs": [
        {
          "output_type": "execute_result",
          "data": {
            "text/plain": [
              "array([0, 0, 0, ..., 0, 0, 0])"
            ]
          },
          "metadata": {},
          "execution_count": 51
        }
      ]
    },
    {
      "cell_type": "code",
      "metadata": {
        "id": "TTb6bDE_8ZJV"
      },
      "source": [
        ""
      ],
      "execution_count": null,
      "outputs": []
    },
    {
      "cell_type": "markdown",
      "metadata": {
        "id": "pqo344eWl7ko"
      },
      "source": [
        "## Model visualization"
      ]
    },
    {
      "cell_type": "code",
      "metadata": {
        "id": "LCEyytLQl_Oo"
      },
      "source": [
        "gbc_model = best_gbc.fit(X_train, y_train.seriousd2y)"
      ],
      "execution_count": null,
      "outputs": []
    },
    {
      "cell_type": "code",
      "metadata": {
        "colab": {
          "base_uri": "https://localhost:8080/",
          "height": 357
        },
        "id": "VF36S6tfmok3",
        "outputId": "dd9b5349-2182-46e6-9eee-fe4f7069941a"
      },
      "source": [
        "importances_df = pd.DataFrame({\n",
        "    'feature':input_cols,\n",
        "    'importance':gbc_model.feature_importances_\n",
        "})\n",
        "importances_df"
      ],
      "execution_count": null,
      "outputs": [
        {
          "output_type": "execute_result",
          "data": {
            "text/html": [
              "<div>\n",
              "<style scoped>\n",
              "    .dataframe tbody tr th:only-of-type {\n",
              "        vertical-align: middle;\n",
              "    }\n",
              "\n",
              "    .dataframe tbody tr th {\n",
              "        vertical-align: top;\n",
              "    }\n",
              "\n",
              "    .dataframe thead th {\n",
              "        text-align: right;\n",
              "    }\n",
              "</style>\n",
              "<table border=\"1\" class=\"dataframe\">\n",
              "  <thead>\n",
              "    <tr style=\"text-align: right;\">\n",
              "      <th></th>\n",
              "      <th>feature</th>\n",
              "      <th>importance</th>\n",
              "    </tr>\n",
              "  </thead>\n",
              "  <tbody>\n",
              "    <tr>\n",
              "      <th>0</th>\n",
              "      <td>RevolvingUtilizationOfUnsecuredLines</td>\n",
              "      <td>0.050667</td>\n",
              "    </tr>\n",
              "    <tr>\n",
              "      <th>1</th>\n",
              "      <td>age</td>\n",
              "      <td>0.038386</td>\n",
              "    </tr>\n",
              "    <tr>\n",
              "      <th>2</th>\n",
              "      <td>NumberOfTime30-59DaysPastDueNotWorse</td>\n",
              "      <td>0.172796</td>\n",
              "    </tr>\n",
              "    <tr>\n",
              "      <th>3</th>\n",
              "      <td>DebtRatio</td>\n",
              "      <td>0.005792</td>\n",
              "    </tr>\n",
              "    <tr>\n",
              "      <th>4</th>\n",
              "      <td>MonthlyIncome</td>\n",
              "      <td>0.021052</td>\n",
              "    </tr>\n",
              "    <tr>\n",
              "      <th>5</th>\n",
              "      <td>NumberOfOpenCreditLinesAndLoans</td>\n",
              "      <td>0.016996</td>\n",
              "    </tr>\n",
              "    <tr>\n",
              "      <th>6</th>\n",
              "      <td>NumberOfTimes90DaysLate</td>\n",
              "      <td>0.562304</td>\n",
              "    </tr>\n",
              "    <tr>\n",
              "      <th>7</th>\n",
              "      <td>NumberRealEstateLoansOrLines</td>\n",
              "      <td>0.015938</td>\n",
              "    </tr>\n",
              "    <tr>\n",
              "      <th>8</th>\n",
              "      <td>NumberOfTime60-89DaysPastDueNotWorse</td>\n",
              "      <td>0.113618</td>\n",
              "    </tr>\n",
              "    <tr>\n",
              "      <th>9</th>\n",
              "      <td>NumberOfDependents</td>\n",
              "      <td>0.002451</td>\n",
              "    </tr>\n",
              "  </tbody>\n",
              "</table>\n",
              "</div>"
            ],
            "text/plain": [
              "                                feature  importance\n",
              "0  RevolvingUtilizationOfUnsecuredLines    0.050667\n",
              "1                                   age    0.038386\n",
              "2  NumberOfTime30-59DaysPastDueNotWorse    0.172796\n",
              "3                             DebtRatio    0.005792\n",
              "4                         MonthlyIncome    0.021052\n",
              "5       NumberOfOpenCreditLinesAndLoans    0.016996\n",
              "6               NumberOfTimes90DaysLate    0.562304\n",
              "7          NumberRealEstateLoansOrLines    0.015938\n",
              "8  NumberOfTime60-89DaysPastDueNotWorse    0.113618\n",
              "9                    NumberOfDependents    0.002451"
            ]
          },
          "metadata": {},
          "execution_count": 44
        }
      ]
    },
    {
      "cell_type": "code",
      "metadata": {
        "id": "4r93KmmAo75l"
      },
      "source": [
        "importances_df.to_csv('ans.csv', index=False)"
      ],
      "execution_count": null,
      "outputs": []
    },
    {
      "cell_type": "code",
      "metadata": {
        "id": "sGIlueBXp4VG"
      },
      "source": [
        "import matplotlib.pyplot as plt\n",
        "from xgboost import plot_tree\n",
        "from matplotlib.pylab import rcParams\n",
        "%matplotlib inline\n",
        "\n",
        "rcParams['figure.figsize'] = 20,20\n",
        "\n",
        "plot_tree(best_xgc, rankdir='LR')\n",
        "plt.show()"
      ],
      "execution_count": null,
      "outputs": []
    },
    {
      "cell_type": "code",
      "metadata": {
        "colab": {
          "base_uri": "https://localhost:8080/",
          "height": 357
        },
        "id": "6E8kMd-w2-id",
        "outputId": "679ecf95-5688-4c8c-c390-9074b4efbb95"
      },
      "source": [
        "importances_df = pd.DataFrame({\n",
        "    'feature':input_cols,\n",
        "    'importance':best_xgc.feature_importances_\n",
        "})\n",
        "importances_df"
      ],
      "execution_count": null,
      "outputs": [
        {
          "output_type": "execute_result",
          "data": {
            "text/html": [
              "<div>\n",
              "<style scoped>\n",
              "    .dataframe tbody tr th:only-of-type {\n",
              "        vertical-align: middle;\n",
              "    }\n",
              "\n",
              "    .dataframe tbody tr th {\n",
              "        vertical-align: top;\n",
              "    }\n",
              "\n",
              "    .dataframe thead th {\n",
              "        text-align: right;\n",
              "    }\n",
              "</style>\n",
              "<table border=\"1\" class=\"dataframe\">\n",
              "  <thead>\n",
              "    <tr style=\"text-align: right;\">\n",
              "      <th></th>\n",
              "      <th>feature</th>\n",
              "      <th>importance</th>\n",
              "    </tr>\n",
              "  </thead>\n",
              "  <tbody>\n",
              "    <tr>\n",
              "      <th>0</th>\n",
              "      <td>RevolvingUtilizationOfUnsecuredLines</td>\n",
              "      <td>0.237682</td>\n",
              "    </tr>\n",
              "    <tr>\n",
              "      <th>1</th>\n",
              "      <td>age</td>\n",
              "      <td>0.039016</td>\n",
              "    </tr>\n",
              "    <tr>\n",
              "      <th>2</th>\n",
              "      <td>NumberOfTime30-59DaysPastDueNotWorse</td>\n",
              "      <td>0.149072</td>\n",
              "    </tr>\n",
              "    <tr>\n",
              "      <th>3</th>\n",
              "      <td>DebtRatio</td>\n",
              "      <td>0.021863</td>\n",
              "    </tr>\n",
              "    <tr>\n",
              "      <th>4</th>\n",
              "      <td>MonthlyIncome</td>\n",
              "      <td>0.021423</td>\n",
              "    </tr>\n",
              "    <tr>\n",
              "      <th>5</th>\n",
              "      <td>NumberOfOpenCreditLinesAndLoans</td>\n",
              "      <td>0.023624</td>\n",
              "    </tr>\n",
              "    <tr>\n",
              "      <th>6</th>\n",
              "      <td>NumberOfTimes90DaysLate</td>\n",
              "      <td>0.335130</td>\n",
              "    </tr>\n",
              "    <tr>\n",
              "      <th>7</th>\n",
              "      <td>NumberRealEstateLoansOrLines</td>\n",
              "      <td>0.039106</td>\n",
              "    </tr>\n",
              "    <tr>\n",
              "      <th>8</th>\n",
              "      <td>NumberOfTime60-89DaysPastDueNotWorse</td>\n",
              "      <td>0.124109</td>\n",
              "    </tr>\n",
              "    <tr>\n",
              "      <th>9</th>\n",
              "      <td>NumberOfDependents</td>\n",
              "      <td>0.008975</td>\n",
              "    </tr>\n",
              "  </tbody>\n",
              "</table>\n",
              "</div>"
            ],
            "text/plain": [
              "                                feature  importance\n",
              "0  RevolvingUtilizationOfUnsecuredLines    0.237682\n",
              "1                                   age    0.039016\n",
              "2  NumberOfTime30-59DaysPastDueNotWorse    0.149072\n",
              "3                             DebtRatio    0.021863\n",
              "4                         MonthlyIncome    0.021423\n",
              "5       NumberOfOpenCreditLinesAndLoans    0.023624\n",
              "6               NumberOfTimes90DaysLate    0.335130\n",
              "7          NumberRealEstateLoansOrLines    0.039106\n",
              "8  NumberOfTime60-89DaysPastDueNotWorse    0.124109\n",
              "9                    NumberOfDependents    0.008975"
            ]
          },
          "metadata": {},
          "execution_count": 66
        }
      ]
    },
    {
      "cell_type": "code",
      "metadata": {
        "id": "ByCNz-NS3Cod"
      },
      "source": [
        "importances_df.to_csv('ans.csv', index=False)"
      ],
      "execution_count": null,
      "outputs": []
    }
  ]
}